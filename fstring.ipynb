{
 "cells": [
  {
   "cell_type": "markdown",
   "id": "f1e76816",
   "metadata": {},
   "source": [
    "# fstrings"
   ]
  },
  {
   "cell_type": "code",
   "execution_count": null,
   "id": "8b55e45f",
   "metadata": {},
   "outputs": [
    {
     "name": "stdout",
     "output_type": "stream",
     "text": [
      "Hello Olivia, you are 20 years old.\n"
     ]
    }
   ],
   "source": [
    "name = \"Olivia\"\n",
    "age = 20\n",
    "\n",
    "# Converts to string and concatenates\n",
    "print(f\"Hello {name}, you are {age} years old.\")"
   ]
  }
 ],
 "metadata": {
  "kernelspec": {
   "display_name": "Python 3",
   "language": "python",
   "name": "python3"
  },
  "language_info": {
   "codemirror_mode": {
    "name": "ipython",
    "version": 3
   },
   "file_extension": ".py",
   "mimetype": "text/x-python",
   "name": "python",
   "nbconvert_exporter": "python",
   "pygments_lexer": "ipython3",
   "version": "3.12.4"
  }
 },
 "nbformat": 4,
 "nbformat_minor": 5
}
