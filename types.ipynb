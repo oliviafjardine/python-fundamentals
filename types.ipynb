{
 "cells": [
  {
   "cell_type": "markdown",
   "id": "2237d712",
   "metadata": {},
   "source": [
    "# Mutable vs Immutable"
   ]
  },
  {
   "cell_type": "markdown",
   "id": "acd99871",
   "metadata": {},
   "source": [
    "## Immutable types: str, int, float, bool, bytes, tuple\n",
    "These are types that CANNOT be changed after creation. They can only be replaced with a new value."
   ]
  },
  {
   "cell_type": "markdown",
   "id": "5092f8e5",
   "metadata": {},
   "source": [
    "## Tuple example:"
   ]
  },
  {
   "cell_type": "code",
   "execution_count": 8,
   "id": "e4aa38dc",
   "metadata": {},
   "outputs": [
    {
     "name": "stdout",
     "output_type": "stream",
     "text": [
      "(3, 4, 5) (1, 2)\n"
     ]
    }
   ],
   "source": [
    "x = (1, 2) # tuple\n",
    "y = x\n",
    "\n",
    "x = (3, 4, 5)\n",
    "\n",
    "# Prints (3, 4, 5) (1, 2) because when you assign to the variable x, \n",
    "# it creates a NEW object in memory and assigns the name 'x' to this new object.\n",
    "print(x, y)"
   ]
  },
  {
   "cell_type": "markdown",
   "id": "e9ae674a",
   "metadata": {},
   "source": [
    "## String example:"
   ]
  },
  {
   "cell_type": "code",
   "execution_count": 12,
   "id": "ede98dda",
   "metadata": {},
   "outputs": [
    {
     "name": "stdout",
     "output_type": "stream",
     "text": [
      "hello world\n"
     ]
    }
   ],
   "source": [
    "string = \"hello\"\n",
    "string += \" world\" # concatenates strings but does NOT modify the original string.\n",
    "\n",
    "# Prints hello world, creates a NEW string in memory and reassigns the name 'string' to this new object.\n",
    "print(string)"
   ]
  },
  {
   "cell_type": "markdown",
   "id": "397919ec",
   "metadata": {},
   "source": [
    "## Mutable types: list, dict, set\n",
    "These are types that CAN be changed after creation."
   ]
  },
  {
   "cell_type": "markdown",
   "id": "077a9037",
   "metadata": {},
   "source": [
    "## List example:"
   ]
  },
  {
   "cell_type": "code",
   "execution_count": 9,
   "id": "b9c3d3ca",
   "metadata": {},
   "outputs": [
    {
     "name": "stdout",
     "output_type": "stream",
     "text": [
      "[100, 2] [100, 2]\n"
     ]
    }
   ],
   "source": [
    "x = [1, 2]  # list\n",
    "y = x\n",
    "\n",
    "x[0] = 100\n",
    "\n",
    "# Prints [100, 2] [100, 2]] because when you assign to the variable x,\n",
    "# it creates a NEW object in memory and assigns the name 'x' to this new object.\n",
    "print(x, y)"
   ]
  }
 ],
 "metadata": {
  "kernelspec": {
   "display_name": "Python 3",
   "language": "python",
   "name": "python3"
  },
  "language_info": {
   "codemirror_mode": {
    "name": "ipython",
    "version": 3
   },
   "file_extension": ".py",
   "mimetype": "text/x-python",
   "name": "python",
   "nbconvert_exporter": "python",
   "pygments_lexer": "ipython3",
   "version": "3.12.4"
  }
 },
 "nbformat": 4,
 "nbformat_minor": 5
}
