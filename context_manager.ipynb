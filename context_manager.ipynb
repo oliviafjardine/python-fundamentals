{
 "cells": [
  {
   "cell_type": "markdown",
   "id": "f47136fd",
   "metadata": {},
   "source": [
    "# Context Managers"
   ]
  },
  {
   "cell_type": "code",
   "execution_count": 5,
   "id": "d7d51b35",
   "metadata": {},
   "outputs": [
    {
     "name": "stdout",
     "output_type": "stream",
     "text": [
      "Hello World\n"
     ]
    }
   ],
   "source": [
    "# Without context manager\n",
    "def error_func():\n",
    "    file = open(\"file.txt\", \"w\")\n",
    "    file.write(\"hello world\")\n",
    "    raise Exception()\n",
    "    file.close\n",
    "    \n",
    "\n",
    "def new_error_func():\n",
    "    with open(\"file.txt\", \"w+\") as file:\n",
    "        file.write(\"Hello World\")\n",
    "        file.seek(0)  # Move pointer to the beginning\n",
    "        return file.read()\n",
    "\n",
    "\n",
    "if __name__ == \"__main__\":\n",
    "    print(new_error_func())"
   ]
  }
 ],
 "metadata": {
  "kernelspec": {
   "display_name": "Python 3",
   "language": "python",
   "name": "python3"
  },
  "language_info": {
   "codemirror_mode": {
    "name": "ipython",
    "version": 3
   },
   "file_extension": ".py",
   "mimetype": "text/x-python",
   "name": "python",
   "nbconvert_exporter": "python",
   "pygments_lexer": "ipython3",
   "version": "3.12.4"
  }
 },
 "nbformat": 4,
 "nbformat_minor": 5
}
