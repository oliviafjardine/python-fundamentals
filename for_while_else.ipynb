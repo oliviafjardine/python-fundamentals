{
 "cells": [
  {
   "cell_type": "markdown",
   "id": "9a91d7b2",
   "metadata": {},
   "source": [
    "# For/While Else"
   ]
  },
  {
   "cell_type": "markdown",
   "id": "1461c858",
   "metadata": {},
   "source": [
    "Works for loops and while loops. If the loop completes without breaking, then it will execute the else statement."
   ]
  },
  {
   "cell_type": "code",
   "execution_count": 11,
   "id": "83858c9b",
   "metadata": {},
   "outputs": [
    {
     "name": "stdout",
     "output_type": "stream",
     "text": [
      "6 was not found!\n"
     ]
    }
   ],
   "source": [
    "def find_number(numbers, k):\n",
    "    for num in numbers:\n",
    "        if num == k:\n",
    "            return f\"{num} was found!\"\n",
    "            break\n",
    "    else: \n",
    "        return f\"{k} was not found!\"\n",
    "\n",
    "if __name__ == \"__main__\":\n",
    "    numbers = [1, 2, 3, 4]\n",
    "    print(find_number(numbers, 6))"
   ]
  }
 ],
 "metadata": {
  "kernelspec": {
   "display_name": "Python 3",
   "language": "python",
   "name": "python3"
  },
  "language_info": {
   "codemirror_mode": {
    "name": "ipython",
    "version": 3
   },
   "file_extension": ".py",
   "mimetype": "text/x-python",
   "name": "python",
   "nbconvert_exporter": "python",
   "pygments_lexer": "ipython3",
   "version": "3.12.4"
  }
 },
 "nbformat": 4,
 "nbformat_minor": 5
}
