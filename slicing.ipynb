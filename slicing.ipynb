{
 "cells": [
  {
   "cell_type": "markdown",
   "id": "8ab029f9",
   "metadata": {},
   "source": [
    "# Slicing"
   ]
  },
  {
   "cell_type": "code",
   "execution_count": 3,
   "id": "30e23567",
   "metadata": {},
   "outputs": [
    {
     "name": "stdout",
     "output_type": "stream",
     "text": [
      "[1, 2, 3]\n",
      "[0, 1, 2, 3]\n",
      "[0, 2, 4]\n",
      "[5, 3, 1]\n"
     ]
    }
   ],
   "source": [
    "my_list = [0, 1, 2, 3, 4, 5]\n",
    "print(my_list[1:4]) #Output: [1, 2, 3]\n",
    "print(my_list[:4]) #Output: [0, 1, 2, 3]\n",
    "print(my_list[::2])  # Output: [0, 2, 4]\n",
    "print(my_list[::-2]) #Output: [5, 3, 1]\n",
    "\n",
    "# [start:end:step]"
   ]
  },
  {
   "cell_type": "markdown",
   "id": "501e8ba4",
   "metadata": {},
   "source": [
    "## Reverse a String"
   ]
  },
  {
   "cell_type": "markdown",
   "id": "1a7ccf84",
   "metadata": {},
   "source": [
    "### Using For Loop:"
   ]
  },
  {
   "cell_type": "code",
   "execution_count": null,
   "id": "1e811a51",
   "metadata": {},
   "outputs": [
    {
     "name": "stdout",
     "output_type": "stream",
     "text": [
      "azziP\n",
      "aiM amaM\n"
     ]
    }
   ],
   "source": [
    "# Time complexity: O(n)\n",
    "# Space complexity: O(n)\n",
    "\n",
    "def reverse_string(str: str) -> str:\n",
    "    reversed_str = \"\"\n",
    "    for char in str:\n",
    "        reversed_str = char + reversed_str\n",
    "    return reversed_str\n",
    "\n",
    "def main() -> None:\n",
    "    str1 = \"Pizza\"\n",
    "    str2 = \"Mama Mia\"\n",
    "    print(reverse_string(str1))\n",
    "    print(reverse_string(str2))\n",
    "\n",
    "if __name__ == \"__main__\":\n",
    "    main()"
   ]
  },
  {
   "cell_type": "markdown",
   "id": "7ea5c896",
   "metadata": {},
   "source": [
    "### Using Slicing:"
   ]
  },
  {
   "cell_type": "code",
   "execution_count": null,
   "id": "f513d2b7",
   "metadata": {},
   "outputs": [
    {
     "name": "stdout",
     "output_type": "stream",
     "text": [
      "azziP\n",
      "aiM amaM\n"
     ]
    }
   ],
   "source": [
    "# Time complexity: O(n)\n",
    "# Space complexity: O(n)\n",
    "\n",
    "# Using slicing [::-1] to create a reversed copy of the input string\n",
    "def reverse_string(str: str) -> str:\n",
    "    return str[::-1]\n",
    "\n",
    "def main() -> None:\n",
    "    str1 = \"Pizza\"\n",
    "    str2 = \"Mama Mia\"\n",
    "    print(reverse_string(str1))\n",
    "    print(reverse_string(str2))\n",
    "\n",
    "if __name__ == \"__main__\":\n",
    "    main()"
   ]
  }
 ],
 "metadata": {
  "kernelspec": {
   "display_name": "Python 3",
   "language": "python",
   "name": "python3"
  },
  "language_info": {
   "codemirror_mode": {
    "name": "ipython",
    "version": 3
   },
   "file_extension": ".py",
   "mimetype": "text/x-python",
   "name": "python",
   "nbconvert_exporter": "python",
   "pygments_lexer": "ipython3",
   "version": "3.12.4"
  }
 },
 "nbformat": 4,
 "nbformat_minor": 5
}
